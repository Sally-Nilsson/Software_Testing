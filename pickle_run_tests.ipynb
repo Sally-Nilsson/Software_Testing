{
 "cells": [
  {
   "cell_type": "markdown",
   "id": "04f98ecd",
   "metadata": {},
   "source": [
    "# Pickle testing\n",
    "\n",
    "**Course Code:** PA1465  \n",
    "**Name:** Erik Nilsson  \n",
    "**Email:** ernl22@student.bth.se  \n",
    "\n",
    "**Name:** Max Nilsson  \n",
    "**Email:** mans22@student.bth.se  \n",
    "\n",
    "**Name:** Linnea Conradsson  \n",
    "**Email:** lico22@student.bth.se  "
   ]
  },
  {
   "cell_type": "markdown",
   "id": "6648e1f3",
   "metadata": {},
   "source": [
    "# Test diffrent OS"
   ]
  },
  {
   "cell_type": "markdown",
   "id": "2b8f91be",
   "metadata": {},
   "source": [
    "## Windows"
   ]
  },
  {
   "cell_type": "code",
   "execution_count": 36,
   "id": "abab54ff",
   "metadata": {},
   "outputs": [
    {
     "name": "stdout",
     "output_type": "stream",
     "text": [
      "Creating pickle files...\n",
      "Pickle files created.\n"
     ]
    }
   ],
   "source": [
    "!python pickle_testing.py True"
   ]
  },
  {
   "cell_type": "markdown",
   "id": "ec6e4451",
   "metadata": {},
   "source": [
    "## Linux"
   ]
  },
  {
   "cell_type": "code",
   "execution_count": 37,
   "id": "8b212318",
   "metadata": {},
   "outputs": [
    {
     "name": "stdout",
     "output_type": "stream",
     "text": [
      "Creating pickle files...\n",
      "Pickle files created.\n"
     ]
    }
   ],
   "source": [
    "!wsl python3 pickle_testing.py True"
   ]
  },
  {
   "cell_type": "markdown",
   "id": "e1494428",
   "metadata": {},
   "source": [
    "## Compare"
   ]
  },
  {
   "cell_type": "code",
   "execution_count": 38,
   "id": "3779611e",
   "metadata": {},
   "outputs": [
    {
     "name": "stdout",
     "output_type": "stream",
     "text": [
      "Comparison Results:\n",
      "No differences found.\n"
     ]
    }
   ],
   "source": [
    "!python pickle_testing.py False"
   ]
  }
 ],
 "metadata": {
  "kernelspec": {
   "display_name": ".venv",
   "language": "python",
   "name": "python3"
  },
  "language_info": {
   "codemirror_mode": {
    "name": "ipython",
    "version": 3
   },
   "file_extension": ".py",
   "mimetype": "text/x-python",
   "name": "python",
   "nbconvert_exporter": "python",
   "pygments_lexer": "ipython3",
   "version": "3.13.2"
  }
 },
 "nbformat": 4,
 "nbformat_minor": 5
}
